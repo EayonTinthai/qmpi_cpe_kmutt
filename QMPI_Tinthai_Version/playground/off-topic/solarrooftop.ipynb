{
 "cells": [
  {
   "cell_type": "code",
   "execution_count": 2,
   "id": "72f59334",
   "metadata": {},
   "outputs": [],
   "source": [
    "# !pip install pandas folium"
   ]
  },
  {
   "cell_type": "code",
   "execution_count": 3,
   "id": "cbeea273",
   "metadata": {},
   "outputs": [
    {
     "ename": "FileNotFoundError",
     "evalue": "[Errno 2] No such file or directory: 'south thailand sample.csv'",
     "output_type": "error",
     "traceback": [
      "\u001b[31m---------------------------------------------------------------------------\u001b[39m",
      "\u001b[31mFileNotFoundError\u001b[39m                         Traceback (most recent call last)",
      "\u001b[36mCell\u001b[39m\u001b[36m \u001b[39m\u001b[32mIn[3]\u001b[39m\u001b[32m, line 5\u001b[39m\n\u001b[32m      2\u001b[39m \u001b[38;5;28;01mimport\u001b[39;00m\u001b[38;5;250m \u001b[39m\u001b[34;01mfolium\u001b[39;00m\n\u001b[32m      4\u001b[39m \u001b[38;5;66;03m# --- Read CSV file ---\u001b[39;00m\n\u001b[32m----> \u001b[39m\u001b[32m5\u001b[39m df = \u001b[43mpd\u001b[49m\u001b[43m.\u001b[49m\u001b[43mread_csv\u001b[49m\u001b[43m(\u001b[49m\u001b[33;43m\"\u001b[39;49m\u001b[33;43msouth thailand sample.csv\u001b[39;49m\u001b[33;43m\"\u001b[39;49m\u001b[43m)\u001b[49m\n\u001b[32m      7\u001b[39m \u001b[38;5;28mprint\u001b[39m(df.head(\u001b[32m10\u001b[39m))\n",
      "\u001b[36mFile \u001b[39m\u001b[32m~/.local/lib/python3.12/site-packages/pandas/io/parsers/readers.py:1026\u001b[39m, in \u001b[36mread_csv\u001b[39m\u001b[34m(filepath_or_buffer, sep, delimiter, header, names, index_col, usecols, dtype, engine, converters, true_values, false_values, skipinitialspace, skiprows, skipfooter, nrows, na_values, keep_default_na, na_filter, verbose, skip_blank_lines, parse_dates, infer_datetime_format, keep_date_col, date_parser, date_format, dayfirst, cache_dates, iterator, chunksize, compression, thousands, decimal, lineterminator, quotechar, quoting, doublequote, escapechar, comment, encoding, encoding_errors, dialect, on_bad_lines, delim_whitespace, low_memory, memory_map, float_precision, storage_options, dtype_backend)\u001b[39m\n\u001b[32m   1013\u001b[39m kwds_defaults = _refine_defaults_read(\n\u001b[32m   1014\u001b[39m     dialect,\n\u001b[32m   1015\u001b[39m     delimiter,\n\u001b[32m   (...)\u001b[39m\u001b[32m   1022\u001b[39m     dtype_backend=dtype_backend,\n\u001b[32m   1023\u001b[39m )\n\u001b[32m   1024\u001b[39m kwds.update(kwds_defaults)\n\u001b[32m-> \u001b[39m\u001b[32m1026\u001b[39m \u001b[38;5;28;01mreturn\u001b[39;00m \u001b[43m_read\u001b[49m\u001b[43m(\u001b[49m\u001b[43mfilepath_or_buffer\u001b[49m\u001b[43m,\u001b[49m\u001b[43m \u001b[49m\u001b[43mkwds\u001b[49m\u001b[43m)\u001b[49m\n",
      "\u001b[36mFile \u001b[39m\u001b[32m~/.local/lib/python3.12/site-packages/pandas/io/parsers/readers.py:620\u001b[39m, in \u001b[36m_read\u001b[39m\u001b[34m(filepath_or_buffer, kwds)\u001b[39m\n\u001b[32m    617\u001b[39m _validate_names(kwds.get(\u001b[33m\"\u001b[39m\u001b[33mnames\u001b[39m\u001b[33m\"\u001b[39m, \u001b[38;5;28;01mNone\u001b[39;00m))\n\u001b[32m    619\u001b[39m \u001b[38;5;66;03m# Create the parser.\u001b[39;00m\n\u001b[32m--> \u001b[39m\u001b[32m620\u001b[39m parser = \u001b[43mTextFileReader\u001b[49m\u001b[43m(\u001b[49m\u001b[43mfilepath_or_buffer\u001b[49m\u001b[43m,\u001b[49m\u001b[43m \u001b[49m\u001b[43m*\u001b[49m\u001b[43m*\u001b[49m\u001b[43mkwds\u001b[49m\u001b[43m)\u001b[49m\n\u001b[32m    622\u001b[39m \u001b[38;5;28;01mif\u001b[39;00m chunksize \u001b[38;5;129;01mor\u001b[39;00m iterator:\n\u001b[32m    623\u001b[39m     \u001b[38;5;28;01mreturn\u001b[39;00m parser\n",
      "\u001b[36mFile \u001b[39m\u001b[32m~/.local/lib/python3.12/site-packages/pandas/io/parsers/readers.py:1620\u001b[39m, in \u001b[36mTextFileReader.__init__\u001b[39m\u001b[34m(self, f, engine, **kwds)\u001b[39m\n\u001b[32m   1617\u001b[39m     \u001b[38;5;28mself\u001b[39m.options[\u001b[33m\"\u001b[39m\u001b[33mhas_index_names\u001b[39m\u001b[33m\"\u001b[39m] = kwds[\u001b[33m\"\u001b[39m\u001b[33mhas_index_names\u001b[39m\u001b[33m\"\u001b[39m]\n\u001b[32m   1619\u001b[39m \u001b[38;5;28mself\u001b[39m.handles: IOHandles | \u001b[38;5;28;01mNone\u001b[39;00m = \u001b[38;5;28;01mNone\u001b[39;00m\n\u001b[32m-> \u001b[39m\u001b[32m1620\u001b[39m \u001b[38;5;28mself\u001b[39m._engine = \u001b[38;5;28;43mself\u001b[39;49m\u001b[43m.\u001b[49m\u001b[43m_make_engine\u001b[49m\u001b[43m(\u001b[49m\u001b[43mf\u001b[49m\u001b[43m,\u001b[49m\u001b[43m \u001b[49m\u001b[38;5;28;43mself\u001b[39;49m\u001b[43m.\u001b[49m\u001b[43mengine\u001b[49m\u001b[43m)\u001b[49m\n",
      "\u001b[36mFile \u001b[39m\u001b[32m~/.local/lib/python3.12/site-packages/pandas/io/parsers/readers.py:1880\u001b[39m, in \u001b[36mTextFileReader._make_engine\u001b[39m\u001b[34m(self, f, engine)\u001b[39m\n\u001b[32m   1878\u001b[39m     \u001b[38;5;28;01mif\u001b[39;00m \u001b[33m\"\u001b[39m\u001b[33mb\u001b[39m\u001b[33m\"\u001b[39m \u001b[38;5;129;01mnot\u001b[39;00m \u001b[38;5;129;01min\u001b[39;00m mode:\n\u001b[32m   1879\u001b[39m         mode += \u001b[33m\"\u001b[39m\u001b[33mb\u001b[39m\u001b[33m\"\u001b[39m\n\u001b[32m-> \u001b[39m\u001b[32m1880\u001b[39m \u001b[38;5;28mself\u001b[39m.handles = \u001b[43mget_handle\u001b[49m\u001b[43m(\u001b[49m\n\u001b[32m   1881\u001b[39m \u001b[43m    \u001b[49m\u001b[43mf\u001b[49m\u001b[43m,\u001b[49m\n\u001b[32m   1882\u001b[39m \u001b[43m    \u001b[49m\u001b[43mmode\u001b[49m\u001b[43m,\u001b[49m\n\u001b[32m   1883\u001b[39m \u001b[43m    \u001b[49m\u001b[43mencoding\u001b[49m\u001b[43m=\u001b[49m\u001b[38;5;28;43mself\u001b[39;49m\u001b[43m.\u001b[49m\u001b[43moptions\u001b[49m\u001b[43m.\u001b[49m\u001b[43mget\u001b[49m\u001b[43m(\u001b[49m\u001b[33;43m\"\u001b[39;49m\u001b[33;43mencoding\u001b[39;49m\u001b[33;43m\"\u001b[39;49m\u001b[43m,\u001b[49m\u001b[43m \u001b[49m\u001b[38;5;28;43;01mNone\u001b[39;49;00m\u001b[43m)\u001b[49m\u001b[43m,\u001b[49m\n\u001b[32m   1884\u001b[39m \u001b[43m    \u001b[49m\u001b[43mcompression\u001b[49m\u001b[43m=\u001b[49m\u001b[38;5;28;43mself\u001b[39;49m\u001b[43m.\u001b[49m\u001b[43moptions\u001b[49m\u001b[43m.\u001b[49m\u001b[43mget\u001b[49m\u001b[43m(\u001b[49m\u001b[33;43m\"\u001b[39;49m\u001b[33;43mcompression\u001b[39;49m\u001b[33;43m\"\u001b[39;49m\u001b[43m,\u001b[49m\u001b[43m \u001b[49m\u001b[38;5;28;43;01mNone\u001b[39;49;00m\u001b[43m)\u001b[49m\u001b[43m,\u001b[49m\n\u001b[32m   1885\u001b[39m \u001b[43m    \u001b[49m\u001b[43mmemory_map\u001b[49m\u001b[43m=\u001b[49m\u001b[38;5;28;43mself\u001b[39;49m\u001b[43m.\u001b[49m\u001b[43moptions\u001b[49m\u001b[43m.\u001b[49m\u001b[43mget\u001b[49m\u001b[43m(\u001b[49m\u001b[33;43m\"\u001b[39;49m\u001b[33;43mmemory_map\u001b[39;49m\u001b[33;43m\"\u001b[39;49m\u001b[43m,\u001b[49m\u001b[43m \u001b[49m\u001b[38;5;28;43;01mFalse\u001b[39;49;00m\u001b[43m)\u001b[49m\u001b[43m,\u001b[49m\n\u001b[32m   1886\u001b[39m \u001b[43m    \u001b[49m\u001b[43mis_text\u001b[49m\u001b[43m=\u001b[49m\u001b[43mis_text\u001b[49m\u001b[43m,\u001b[49m\n\u001b[32m   1887\u001b[39m \u001b[43m    \u001b[49m\u001b[43merrors\u001b[49m\u001b[43m=\u001b[49m\u001b[38;5;28;43mself\u001b[39;49m\u001b[43m.\u001b[49m\u001b[43moptions\u001b[49m\u001b[43m.\u001b[49m\u001b[43mget\u001b[49m\u001b[43m(\u001b[49m\u001b[33;43m\"\u001b[39;49m\u001b[33;43mencoding_errors\u001b[39;49m\u001b[33;43m\"\u001b[39;49m\u001b[43m,\u001b[49m\u001b[43m \u001b[49m\u001b[33;43m\"\u001b[39;49m\u001b[33;43mstrict\u001b[39;49m\u001b[33;43m\"\u001b[39;49m\u001b[43m)\u001b[49m\u001b[43m,\u001b[49m\n\u001b[32m   1888\u001b[39m \u001b[43m    \u001b[49m\u001b[43mstorage_options\u001b[49m\u001b[43m=\u001b[49m\u001b[38;5;28;43mself\u001b[39;49m\u001b[43m.\u001b[49m\u001b[43moptions\u001b[49m\u001b[43m.\u001b[49m\u001b[43mget\u001b[49m\u001b[43m(\u001b[49m\u001b[33;43m\"\u001b[39;49m\u001b[33;43mstorage_options\u001b[39;49m\u001b[33;43m\"\u001b[39;49m\u001b[43m,\u001b[49m\u001b[43m \u001b[49m\u001b[38;5;28;43;01mNone\u001b[39;49;00m\u001b[43m)\u001b[49m\u001b[43m,\u001b[49m\n\u001b[32m   1889\u001b[39m \u001b[43m\u001b[49m\u001b[43m)\u001b[49m\n\u001b[32m   1890\u001b[39m \u001b[38;5;28;01massert\u001b[39;00m \u001b[38;5;28mself\u001b[39m.handles \u001b[38;5;129;01mis\u001b[39;00m \u001b[38;5;129;01mnot\u001b[39;00m \u001b[38;5;28;01mNone\u001b[39;00m\n\u001b[32m   1891\u001b[39m f = \u001b[38;5;28mself\u001b[39m.handles.handle\n",
      "\u001b[36mFile \u001b[39m\u001b[32m~/.local/lib/python3.12/site-packages/pandas/io/common.py:873\u001b[39m, in \u001b[36mget_handle\u001b[39m\u001b[34m(path_or_buf, mode, encoding, compression, memory_map, is_text, errors, storage_options)\u001b[39m\n\u001b[32m    868\u001b[39m \u001b[38;5;28;01melif\u001b[39;00m \u001b[38;5;28misinstance\u001b[39m(handle, \u001b[38;5;28mstr\u001b[39m):\n\u001b[32m    869\u001b[39m     \u001b[38;5;66;03m# Check whether the filename is to be opened in binary mode.\u001b[39;00m\n\u001b[32m    870\u001b[39m     \u001b[38;5;66;03m# Binary mode does not support 'encoding' and 'newline'.\u001b[39;00m\n\u001b[32m    871\u001b[39m     \u001b[38;5;28;01mif\u001b[39;00m ioargs.encoding \u001b[38;5;129;01mand\u001b[39;00m \u001b[33m\"\u001b[39m\u001b[33mb\u001b[39m\u001b[33m\"\u001b[39m \u001b[38;5;129;01mnot\u001b[39;00m \u001b[38;5;129;01min\u001b[39;00m ioargs.mode:\n\u001b[32m    872\u001b[39m         \u001b[38;5;66;03m# Encoding\u001b[39;00m\n\u001b[32m--> \u001b[39m\u001b[32m873\u001b[39m         handle = \u001b[38;5;28;43mopen\u001b[39;49m\u001b[43m(\u001b[49m\n\u001b[32m    874\u001b[39m \u001b[43m            \u001b[49m\u001b[43mhandle\u001b[49m\u001b[43m,\u001b[49m\n\u001b[32m    875\u001b[39m \u001b[43m            \u001b[49m\u001b[43mioargs\u001b[49m\u001b[43m.\u001b[49m\u001b[43mmode\u001b[49m\u001b[43m,\u001b[49m\n\u001b[32m    876\u001b[39m \u001b[43m            \u001b[49m\u001b[43mencoding\u001b[49m\u001b[43m=\u001b[49m\u001b[43mioargs\u001b[49m\u001b[43m.\u001b[49m\u001b[43mencoding\u001b[49m\u001b[43m,\u001b[49m\n\u001b[32m    877\u001b[39m \u001b[43m            \u001b[49m\u001b[43merrors\u001b[49m\u001b[43m=\u001b[49m\u001b[43merrors\u001b[49m\u001b[43m,\u001b[49m\n\u001b[32m    878\u001b[39m \u001b[43m            \u001b[49m\u001b[43mnewline\u001b[49m\u001b[43m=\u001b[49m\u001b[33;43m\"\u001b[39;49m\u001b[33;43m\"\u001b[39;49m\u001b[43m,\u001b[49m\n\u001b[32m    879\u001b[39m \u001b[43m        \u001b[49m\u001b[43m)\u001b[49m\n\u001b[32m    880\u001b[39m     \u001b[38;5;28;01melse\u001b[39;00m:\n\u001b[32m    881\u001b[39m         \u001b[38;5;66;03m# Binary mode\u001b[39;00m\n\u001b[32m    882\u001b[39m         handle = \u001b[38;5;28mopen\u001b[39m(handle, ioargs.mode)\n",
      "\u001b[31mFileNotFoundError\u001b[39m: [Errno 2] No such file or directory: 'south thailand sample.csv'"
     ]
    }
   ],
   "source": [
    "import pandas as pd\n",
    "import folium\n",
    "\n",
    "# --- Read CSV file ---\n",
    "df = pd.read_csv(\"south thailand sample.csv\")\n",
    "\n",
    "print(df.head(10))"
   ]
  },
  {
   "cell_type": "code",
   "execution_count": 13,
   "id": "a32d6551",
   "metadata": {},
   "outputs": [],
   "source": [
    "#useable roof area calc base on building type\n",
    "\n",
    "def calc_likely_percent(area):\n",
    "    if area <= 150:\n",
    "        return 0.5\n",
    "    elif 151 <= area <= 400:\n",
    "        return 0.25\n",
    "    elif 401 <= area <= 1000:\n",
    "        return 0.5\n",
    "    else:  # area > 1000\n",
    "        return 1\n",
    "    \n",
    "    df['likely_percent_of_usable_roof_area'] = df['area_in_meters'].apply(calc_likely_percent)\n",
    "    \n",
    "  "
   ]
  },
  {
   "cell_type": "code",
   "execution_count": 14,
   "id": "aa302eaa",
   "metadata": {},
   "outputs": [
    {
     "name": "stdout",
     "output_type": "stream",
     "text": [
      "Index(['latitude', 'longitude', 'area_in_meters', 'confidence', 'geometry',\n",
      "       'full_plus_code'],\n",
      "      dtype='object')\n"
     ]
    }
   ],
   "source": [
    "print(df.columns)"
   ]
  },
  {
   "cell_type": "code",
   "execution_count": 15,
   "id": "5b17e382",
   "metadata": {},
   "outputs": [
    {
     "name": "stdout",
     "output_type": "stream",
     "text": [
      "float64\n"
     ]
    }
   ],
   "source": [
    "print(df['area_in_meters'].dtype)"
   ]
  },
  {
   "cell_type": "code",
   "execution_count": 16,
   "id": "9b6c936e",
   "metadata": {},
   "outputs": [
    {
     "name": "stdout",
     "output_type": "stream",
     "text": [
      "   area_in_meters  likely_percent_of_usable_roof_area\n",
      "0        160.4254                                0.25\n",
      "1         35.3311                                0.50\n",
      "2         97.7540                                0.50\n",
      "3         11.2844                                0.50\n",
      "4         50.8605                                0.50\n",
      "5        207.8669                                0.25\n",
      "6         10.8104                                0.50\n",
      "7        150.1234                                1.00\n",
      "8         90.4910                                0.50\n",
      "9        163.7118                                0.25\n"
     ]
    }
   ],
   "source": [
    "import pandas as pd\n",
    "\n",
    "# Read CSV\n",
    "df = pd.read_csv(\"south thailand sample.csv\")\n",
    "\n",
    "# Define calculation function\n",
    "def calc_likely_percent(area):\n",
    "    if area <= 150:\n",
    "        return 0.5\n",
    "    elif 151 <= area <= 400:\n",
    "        return 0.25\n",
    "    elif 401 <= area <= 1000:\n",
    "        return 0.5\n",
    "    else:  # area > 1000\n",
    "        return 1\n",
    "\n",
    "# Apply function to create new column\n",
    "df['likely_percent_of_usable_roof_area'] = df['area_in_meters'].apply(calc_likely_percent)\n",
    "\n",
    "# Check results\n",
    "print(df[['area_in_meters','likely_percent_of_usable_roof_area']].head(10))"
   ]
  },
  {
   "cell_type": "code",
   "execution_count": 17,
   "id": "f3cef4ef",
   "metadata": {},
   "outputs": [
    {
     "name": "stdout",
     "output_type": "stream",
     "text": [
      "   area_in_meters  likely_percent_of_usable_roof_area building_size_category\n",
      "0        160.4254                                0.25        Medium building\n",
      "1         35.3311                                0.50         Small building\n",
      "2         97.7540                                0.50         Small building\n",
      "3         11.2844                                0.50         Small building\n",
      "4         50.8605                                0.50         Small building\n",
      "5        207.8669                                0.25        Medium building\n",
      "6         10.8104                                0.50         Small building\n",
      "7        150.1234                                1.00    Very large building\n",
      "8         90.4910                                0.50         Small building\n",
      "9        163.7118                                0.25        Medium building\n"
     ]
    }
   ],
   "source": [
    "def categorize_building(area):\n",
    "    if area <= 150:\n",
    "        return \"Small building\"\n",
    "    elif 151 <= area <= 400:\n",
    "        return \"Medium building\"\n",
    "    elif 401 <= area <= 1000:\n",
    "        return \"Large building\"\n",
    "    else:  # area > 1000\n",
    "        return \"Very large building\"\n",
    "\n",
    "df['building_size_category'] = df['area_in_meters'].apply(categorize_building)\n",
    "print(df[['area_in_meters','likely_percent_of_usable_roof_area','building_size_category']].head(10))"
   ]
  },
  {
   "cell_type": "code",
   "execution_count": 19,
   "id": "eb7e1f24",
   "metadata": {},
   "outputs": [
    {
     "name": "stdout",
     "output_type": "stream",
     "text": [
      "   area_in_meters  likely_percent_of_usable_roof_area  \\\n",
      "0        160.4254                                0.25   \n",
      "1         35.3311                                0.50   \n",
      "2         97.7540                                0.50   \n",
      "3         11.2844                                0.50   \n",
      "4         50.8605                                0.50   \n",
      "5        207.8669                                0.25   \n",
      "6         10.8104                                0.50   \n",
      "7        150.1234                                1.00   \n",
      "8         90.4910                                0.50   \n",
      "9        163.7118                                0.25   \n",
      "\n",
      "   Optimal_Output_per_year  AVG_optimal_per_day building_size_category  \n",
      "0              70186.11250           192.290719        Medium building  \n",
      "1              30914.71250            84.697842         Small building  \n",
      "2              85534.75000           234.341781         Small building  \n",
      "3               9873.85000            27.051644         Small building  \n",
      "4              44502.93750           121.925856         Small building  \n",
      "5              90941.76875           249.155531        Medium building  \n",
      "6               9459.10000            25.915342         Small building  \n",
      "7             262715.95000           719.769726    Very large building  \n",
      "8              79179.62500           216.930479         Small building  \n",
      "9              71623.91250           196.229897        Medium building  \n"
     ]
    }
   ],
   "source": [
    "import pandas as pd\n",
    "\n",
    "# Read CSV\n",
    "df = pd.read_csv(\"south thailand sample.csv\")\n",
    "\n",
    "# Make sure area is numeric\n",
    "df['area_in_meters'] = pd.to_numeric(df['area_in_meters'], errors='coerce')\n",
    "df = df.dropna(subset=['area_in_meters'])\n",
    "\n",
    "# Step 1: Create likely_percent_of_usable_roof_area\n",
    "def calc_likely_percent(area):\n",
    "    if area <= 150:\n",
    "        return 0.5\n",
    "    elif 151 <= area <= 400:\n",
    "        return 0.25\n",
    "    elif 401 <= area <= 1000:\n",
    "        return 0.5\n",
    "    else:  # area > 1000\n",
    "        return 1\n",
    "\n",
    "df['likely_percent_of_usable_roof_area'] = df['area_in_meters'].apply(calc_likely_percent)\n",
    "\n",
    "# Step 2: Calculate Optimal_Output_per_year\n",
    "# Formula: area_in_meters × 1750 × likely_percent_of_usable_roof_area\n",
    "df['Optimal_Output_per_year'] = (\n",
    "    df['area_in_meters'] * 1750 * df['likely_percent_of_usable_roof_area']\n",
    ")\n",
    "\n",
    "# Step 3: Calculate AVG_optimal_per_day\n",
    "df['AVG_optimal_per_day'] = df['Optimal_Output_per_year'] / 365\n",
    "\n",
    "# Step 4: Optional - Create building category\n",
    "def categorize_building(area):\n",
    "    if area <= 150:\n",
    "        return \"Small building\"\n",
    "    elif 151 <= area <= 400:\n",
    "        return \"Medium building\"\n",
    "    elif 401 <= area <= 1000:\n",
    "        return \"Large building\"\n",
    "    else:\n",
    "        return \"Very large building\"\n",
    "\n",
    "df['building_size_category'] = df['area_in_meters'].apply(categorize_building)\n",
    "\n",
    "# Step 5: Preview\n",
    "print(df[['area_in_meters',\n",
    "          'likely_percent_of_usable_roof_area',\n",
    "          'Optimal_Output_per_year',\n",
    "          'AVG_optimal_per_day',\n",
    "          'building_size_category']].head(10))"
   ]
  },
  {
   "cell_type": "code",
   "execution_count": 20,
   "id": "373a18c1",
   "metadata": {},
   "outputs": [
    {
     "name": "stdout",
     "output_type": "stream",
     "text": [
      "   latitude  area_in_meters  likely_percent_of_usable_roof_area  \\\n",
      "0  9.237982        160.4254                                0.25   \n",
      "1  7.792060         35.3311                                0.50   \n",
      "2  7.827527         97.7540                                0.50   \n",
      "3  9.084754         11.2844                                0.50   \n",
      "4  5.279459         50.8605                                0.50   \n",
      "5  5.407167        207.8669                                0.25   \n",
      "6  5.335599         10.8104                                0.50   \n",
      "7  8.553515        150.1234                                1.00   \n",
      "8  8.212927         90.4910                                0.50   \n",
      "9  7.916890        163.7118                                0.25   \n",
      "\n",
      "   Optimal_Output_per_year  AVG_optimal_per_day  Optimal_slope  \\\n",
      "0              70186.11250           192.290719      10.120866   \n",
      "1              30914.71250            84.697842       9.021966   \n",
      "2              85534.75000           234.341781       9.048920   \n",
      "3               9873.85000            27.051644      10.004413   \n",
      "4              44502.93750           121.925856       7.112389   \n",
      "5              90941.76875           249.155531       7.209447   \n",
      "6               9459.10000            25.915342       7.155055   \n",
      "7             262715.95000           719.769726       9.600671   \n",
      "8              79179.62500           216.930479       9.341824   \n",
      "9              71623.91250           196.229897       9.116837   \n",
      "\n",
      "   Optimal_Azimuth building_size_category  \n",
      "0              180        Medium building  \n",
      "1              180         Small building  \n",
      "2              180         Small building  \n",
      "3              180         Small building  \n",
      "4              180         Small building  \n",
      "5              180        Medium building  \n",
      "6              180         Small building  \n",
      "7              180    Very large building  \n",
      "8              180         Small building  \n",
      "9              180        Medium building  \n"
     ]
    }
   ],
   "source": [
    "import pandas as pd\n",
    "\n",
    "# Read CSV\n",
    "df = pd.read_csv(\"south thailand sample.csv\")\n",
    "\n",
    "# Ensure numeric data\n",
    "df['area_in_meters'] = pd.to_numeric(df['area_in_meters'], errors='coerce')\n",
    "df['latitude'] = pd.to_numeric(df['latitude'], errors='coerce')\n",
    "df['longitude'] = pd.to_numeric(df['longitude'], errors='coerce')\n",
    "df = df.dropna(subset=['area_in_meters', 'latitude', 'longitude'])\n",
    "\n",
    "# Step 1: Create likely_percent_of_usable_roof_area\n",
    "def calc_likely_percent(area):\n",
    "    if area <= 150:\n",
    "        return 0.5\n",
    "    elif 151 <= area <= 400:\n",
    "        return 0.25\n",
    "    elif 401 <= area <= 1000:\n",
    "        return 0.5\n",
    "    else:\n",
    "        return 1\n",
    "\n",
    "df['likely_percent_of_usable_roof_area'] = df['area_in_meters'].apply(calc_likely_percent)\n",
    "\n",
    "# Step 2: Building size category\n",
    "def categorize_building(area):\n",
    "    if area <= 150:\n",
    "        return \"Small building\"\n",
    "    elif 151 <= area <= 400:\n",
    "        return \"Medium building\"\n",
    "    elif 401 <= area <= 1000:\n",
    "        return \"Large building\"\n",
    "    else:\n",
    "        return \"Very large building\"\n",
    "\n",
    "df['building_size_category'] = df['area_in_meters'].apply(categorize_building)\n",
    "\n",
    "# Step 3: Calculate optimal outputs\n",
    "df['Optimal_Output_per_year'] = (\n",
    "    df['area_in_meters'] * 1750 * df['likely_percent_of_usable_roof_area']\n",
    ")\n",
    "df['AVG_optimal_per_day'] = df['Optimal_Output_per_year'] / 365\n",
    "\n",
    "# Step 4: Calculate new attributes\n",
    "df['Optimal_slope'] = 0.76 * df['latitude'] + 3.1\n",
    "df['Optimal_Azimuth'] = 180  # fixed value for all rows\n",
    "\n",
    "# Step 5: Preview results\n",
    "print(df[['latitude', 'area_in_meters', 'likely_percent_of_usable_roof_area',\n",
    "          'Optimal_Output_per_year', 'AVG_optimal_per_day',\n",
    "          'Optimal_slope', 'Optimal_Azimuth', 'building_size_category']].head(10))\n"
   ]
  },
  {
   "cell_type": "code",
   "execution_count": 21,
   "id": "93ef1b12",
   "metadata": {},
   "outputs": [
    {
     "name": "stdout",
     "output_type": "stream",
     "text": [
      "   latitude  longitude  area_in_meters  likely_percent_of_usable_roof_area  \\\n",
      "0   9.23798   99.83336           160.0                                0.25   \n",
      "1   7.79206   98.99144            35.0                                0.50   \n",
      "2   7.82753   98.30215            98.0                                0.50   \n",
      "3   9.08475   99.33126            11.0                                0.50   \n",
      "4   5.27946  100.42990            51.0                                0.50   \n",
      "5   5.40717  100.28323           208.0                                0.25   \n",
      "6   5.33560  100.50482            11.0                                0.50   \n",
      "7   8.55351   98.30817           150.0                                1.00   \n",
      "8   8.21293   98.37547            90.0                                0.50   \n",
      "9   7.91689   98.40180           164.0                                0.25   \n",
      "\n",
      "  building_size_category  Optimal_Output_per_year  AVG_optimal_per_day  \\\n",
      "0        Medium building                 70186.11               192.29   \n",
      "1         Small building                 30914.71                84.70   \n",
      "2         Small building                 85534.75               234.34   \n",
      "3         Small building                  9873.85                27.05   \n",
      "4         Small building                 44502.94               121.93   \n",
      "5        Medium building                 90941.77               249.16   \n",
      "6         Small building                  9459.10                25.92   \n",
      "7    Very large building                262715.95               719.77   \n",
      "8         Small building                 79179.62               216.93   \n",
      "9        Medium building                 71623.91               196.23   \n",
      "\n",
      "   Optimal_slope  Optimal_Azimuth  \n",
      "0          10.12              180  \n",
      "1           9.02              180  \n",
      "2           9.05              180  \n",
      "3          10.00              180  \n",
      "4           7.11              180  \n",
      "5           7.21              180  \n",
      "6           7.16              180  \n",
      "7           9.60              180  \n",
      "8           9.34              180  \n",
      "9           9.12              180  \n"
     ]
    }
   ],
   "source": [
    "# === Step 6: Round for cleaner output ===\n",
    "df = df.round({\n",
    "    'latitude': 5,\n",
    "    'longitude': 5,\n",
    "    'area_in_meters': 0,\n",
    "    'likely_percent_of_usable_roof_area': 2,\n",
    "    'Optimal_Output_per_year': 2,\n",
    "    'AVG_optimal_per_day': 2,\n",
    "    'Optimal_slope': 2\n",
    "})\n",
    "\n",
    "# === Step 7: Preview clean output ===\n",
    "print(df[['latitude', 'longitude', 'area_in_meters',\n",
    "          'likely_percent_of_usable_roof_area',\n",
    "          'building_size_category',\n",
    "          'Optimal_Output_per_year', 'AVG_optimal_per_day',\n",
    "          'Optimal_slope', 'Optimal_Azimuth']].head(10))"
   ]
  },
  {
   "cell_type": "code",
   "execution_count": 22,
   "id": "7ec165e8",
   "metadata": {},
   "outputs": [
    {
     "name": "stdout",
     "output_type": "stream",
     "text": [
      "✅ Cleaned dataset saved as: South_roof_output_estimation.csv\n",
      "   latitude  longitude  area_in_meters  confidence  \\\n",
      "0   9.23798   99.83336           160.0      0.8686   \n",
      "1   7.79206   98.99144            35.0      0.8016   \n",
      "2   7.82753   98.30215            98.0      0.8670   \n",
      "3   9.08475   99.33126            11.0      0.6619   \n",
      "4   5.27946  100.42990            51.0      0.8339   \n",
      "5   5.40717  100.28323           208.0      0.8659   \n",
      "6   5.33560  100.50482            11.0      0.7664   \n",
      "7   8.55351   98.30817           150.0      0.8725   \n",
      "8   8.21293   98.37547            90.0      0.7862   \n",
      "9   7.91689   98.40180           164.0      0.9361   \n",
      "\n",
      "                                            geometry full_plus_code  \\\n",
      "0  POLYGON((99.8334369848459 9.23800792860718, 99...  6MXX6RQM+58X7   \n",
      "1  POLYGON((98.9914455086765 7.79202073276856, 98...  6MVWQXRR+RHFH   \n",
      "2  POLYGON((98.3022009780285 7.82749055855542, 98...  6MVWR8H2+2V65   \n",
      "3  POLYGON((99.3312776416093 9.08474591932287, 99...  6MXX38MJ+WG22   \n",
      "4  POLYGON((100.429912565614 5.27940654227108, 10...  6PQ27CHH+QXJ9   \n",
      "5  POLYGON((100.283336557386 5.40720485045809, 10...  6PQ2C74M+V79M   \n",
      "6  POLYGON((100.504836644557 5.3355876578651, 100...  6PQ28GP3+6WPR   \n",
      "7  POLYGON((98.3082537120173 8.55354662525476, 98...  6MWWH835+C73F   \n",
      "8  POLYGON((98.3755525192454 8.2129160585666, 98....  6MWW697G+55G5   \n",
      "9  POLYGON((98.4018740461001 7.91684531956904, 98...  6MVWWC82+QP3P   \n",
      "\n",
      "   likely_percent_of_usable_roof_area building_size_category  \\\n",
      "0                                0.25        Medium building   \n",
      "1                                0.50         Small building   \n",
      "2                                0.50         Small building   \n",
      "3                                0.50         Small building   \n",
      "4                                0.50         Small building   \n",
      "5                                0.25        Medium building   \n",
      "6                                0.50         Small building   \n",
      "7                                1.00    Very large building   \n",
      "8                                0.50         Small building   \n",
      "9                                0.25        Medium building   \n",
      "\n",
      "   Optimal_Output_per_year  AVG_optimal_per_day  Optimal_slope  \\\n",
      "0                 70186.11               192.29          10.12   \n",
      "1                 30914.71                84.70           9.02   \n",
      "2                 85534.75               234.34           9.05   \n",
      "3                  9873.85                27.05          10.00   \n",
      "4                 44502.94               121.93           7.11   \n",
      "5                 90941.77               249.16           7.21   \n",
      "6                  9459.10                25.92           7.16   \n",
      "7                262715.95               719.77           9.60   \n",
      "8                 79179.62               216.93           9.34   \n",
      "9                 71623.91               196.23           9.12   \n",
      "\n",
      "   Optimal_Azimuth  \n",
      "0              180  \n",
      "1              180  \n",
      "2              180  \n",
      "3              180  \n",
      "4              180  \n",
      "5              180  \n",
      "6              180  \n",
      "7              180  \n",
      "8              180  \n",
      "9              180  \n"
     ]
    }
   ],
   "source": [
    "import pandas as pd\n",
    "\n",
    "# === Step 1: Read and prepare data ===\n",
    "df = pd.read_csv(\"south thailand sample.csv\")\n",
    "\n",
    "# Ensure numeric columns\n",
    "df['area_in_meters'] = pd.to_numeric(df['area_in_meters'], errors='coerce')\n",
    "df['latitude'] = pd.to_numeric(df['latitude'], errors='coerce')\n",
    "df['longitude'] = pd.to_numeric(df['longitude'], errors='coerce')\n",
    "\n",
    "# Drop rows missing key numeric values\n",
    "df = df.dropna(subset=['area_in_meters', 'latitude', 'longitude'])\n",
    "\n",
    "# === Step 2: Create likely_percent_of_usable_roof_area ===\n",
    "def calc_likely_percent(area):\n",
    "    if area <= 150:\n",
    "        return 0.5\n",
    "    elif 151 <= area <= 400:\n",
    "        return 0.25\n",
    "    elif 401 <= area <= 1000:\n",
    "        return 0.5\n",
    "    else:\n",
    "        return 1\n",
    "\n",
    "df['likely_percent_of_usable_roof_area'] = df['area_in_meters'].apply(calc_likely_percent)\n",
    "\n",
    "# === Step 3: Building size category ===\n",
    "def categorize_building(area):\n",
    "    if area <= 150:\n",
    "        return \"Small building\"\n",
    "    elif 151 <= area <= 400:\n",
    "        return \"Medium building\"\n",
    "    elif 401 <= area <= 1000:\n",
    "        return \"Large building\"\n",
    "    else:\n",
    "        return \"Very large building\"\n",
    "\n",
    "df['building_size_category'] = df['area_in_meters'].apply(categorize_building)\n",
    "\n",
    "# === Step 4: Output calculations ===\n",
    "df['Optimal_Output_per_year'] = df['area_in_meters'] * 1750 * df['likely_percent_of_usable_roof_area']\n",
    "df['AVG_optimal_per_day'] = df['Optimal_Output_per_year'] / 365\n",
    "\n",
    "# === Step 5: Slope and Azimuth ===\n",
    "df['Optimal_slope'] = 0.76 * df['latitude'] + 3.1\n",
    "df['Optimal_Azimuth'] = 180  # fixed value\n",
    "\n",
    "# === Step 6: Round for clean output ===\n",
    "df = df.round({\n",
    "    'latitude': 5,\n",
    "    'longitude': 5,\n",
    "    'area_in_meters': 0,\n",
    "    'likely_percent_of_usable_roof_area': 2,\n",
    "    'Optimal_Output_per_year': 2,\n",
    "    'AVG_optimal_per_day': 2,\n",
    "    'Optimal_slope': 2\n",
    "})\n",
    "\n",
    "# === Step 7: Save to CSV ===\n",
    "output_filename = \"South_roof_output_estimation.csv\"\n",
    "df.to_csv(output_filename, index=False)\n",
    "print(f\"✅ Cleaned dataset saved as: {output_filename}\")\n",
    "\n",
    "# === Step 8: Optional preview ===\n",
    "print(df.head(10))\n"
   ]
  },
  {
   "cell_type": "code",
   "execution_count": 25,
   "id": "ccd7a7ee",
   "metadata": {},
   "outputs": [
    {
     "ename": "IndentationError",
     "evalue": "expected an indented block after 'for' statement on line 18 (571595923.py, line 19)",
     "output_type": "error",
     "traceback": [
      "\u001b[1;36m  Cell \u001b[1;32mIn[25], line 19\u001b[1;36m\u001b[0m\n\u001b[1;33m    popup_text = (\u001b[0m\n\u001b[1;37m    ^\u001b[0m\n\u001b[1;31mIndentationError\u001b[0m\u001b[1;31m:\u001b[0m expected an indented block after 'for' statement on line 18\n"
     ]
    }
   ],
   "source": [
    "import pandas as pd\n",
    "import folium\n",
    "from folium.plugins import MarkerCluster\n",
    "\n",
    "# === Step 1: Load your cleaned data ===\n",
    "df = pd.read_csv(\"South_roof_output_estimation.csv\")\n",
    "\n",
    "# === Step 2: Define Phuket center coordinates ===\n",
    "phuket_lat, phuket_lon = 7.8804, 98.3923\n",
    "\n",
    "# === Step 3: Initialize map ===\n",
    "m = folium.Map(location=[phuket_lat, phuket_lon], zoom_start=9, tiles=\"CartoDB positron\")\n",
    "\n",
    "# === Step 4: Add a MarkerCluster ===\n",
    "marker_cluster = MarkerCluster().add_to(m)\n",
    "\n",
    "# === Step 5: Add markers ===\n",
    "for _, row in df.iterrows():\n",
    "popup_text = (\n",
    "    f\"<b>Building size:</b> {row['building_size_category']}<br>\"\n",
    "    f\"<b>Area:</b> {row['area_in_meters']} m²<br>\"\n",
    "    f\"<b>Optimal slope:</b> {row['Optimal_slope']}°<br>\"\n",
    "    f\"<b>Optimal azimuth:</b> {row['Optimal_Azimuth']}°<br>\"\n",
    "    f\"<b>Yearly output:</b> {row['Optimal_Output_per_year']} kWh/year<br>\"\n",
    "    f\"<b>Average daily output:</b> {row['AVG_optimal_per_day']} kWh/day\"\n",
    ")\n",
    "    folium.Marker(\n",
    "        location=[row['latitude'], row['longitude']],\n",
    "        popup=popup_text,\n",
    "        icon=folium.Icon(color=\"green\", icon=\"solar-power\", prefix=\"fa\")\n",
    "    ).add_to(marker_cluster)\n",
    "\n",
    "# === Step 6: Save to HTML ===\n",
    "m.save(\"South_roof_visualization_map.html\")\n",
    "print(\"✅ Interactive map saved as: South_roof_visualization_map.html\")"
   ]
  },
  {
   "cell_type": "code",
   "execution_count": 24,
   "id": "f338d475",
   "metadata": {},
   "outputs": [
    {
     "data": {
      "text/plain": [
       "True"
      ]
     },
     "execution_count": 24,
     "metadata": {},
     "output_type": "execute_result"
    }
   ],
   "source": [
    "import webbrowser\n",
    "\n",
    "webbrowser.open(\"South_roof_visualization_map.html\")"
   ]
  },
  {
   "cell_type": "code",
   "execution_count": 26,
   "id": "a379c395",
   "metadata": {},
   "outputs": [
    {
     "name": "stdout",
     "output_type": "stream",
     "text": [
      "✅ Final map saved as: South_roof_visualization_map_final.html\n"
     ]
    }
   ],
   "source": [
    "import pandas as pd\n",
    "import folium\n",
    "from folium.plugins import MarkerCluster\n",
    "\n",
    "# === Step 1: Load the cleaned dataset ===\n",
    "df = pd.read_csv(\"South_roof_output_estimation.csv\")\n",
    "\n",
    "# === Step 2: Define map center (Phuket, Thailand) ===\n",
    "phuket_lat, phuket_lon = 7.8804, 98.3923\n",
    "\n",
    "# === Step 3: Initialize the map ===\n",
    "m = folium.Map(location=[phuket_lat, phuket_lon], zoom_start=9, tiles=\"CartoDB positron\")\n",
    "\n",
    "# === Step 4: Marker cluster for performance ===\n",
    "marker_cluster = MarkerCluster().add_to(m)\n",
    "\n",
    "# === Step 5: Color coding by building size ===\n",
    "color_map = {\n",
    "    \"Small building\": \"green\",\n",
    "    \"Medium building\": \"blue\",\n",
    "    \"Large building\": \"orange\",\n",
    "    \"Very large building\": \"red\"\n",
    "}\n",
    "\n",
    "# === Step 6: Add markers with popups (including units) ===\n",
    "for _, row in df.iterrows():\n",
    "    popup_text = (\n",
    "        f\"<b>Building size:</b> {row['building_size_category']}<br>\"\n",
    "        f\"<b>Area:</b> {row['area_in_meters']} m²<br>\"\n",
    "        f\"<b>Optimal slope:</b> {row['Optimal_slope']}°<br>\"\n",
    "        f\"<b>Optimal azimuth:</b> {row['Optimal_Azimuth']}°<br>\"\n",
    "        f\"<b>Yearly output:</b> {row['Optimal_Output_per_year']} kWh/year<br>\"\n",
    "        f\"<b>Average daily output:</b> {row['AVG_optimal_per_day']} kWh/day\"\n",
    "    )\n",
    "\n",
    "    folium.Marker(\n",
    "        location=[row['latitude'], row['longitude']],\n",
    "        popup=popup_text,\n",
    "        icon=folium.Icon(\n",
    "            color=color_map.get(row['building_size_category'], \"gray\"),\n",
    "            icon=\"home\",\n",
    "            prefix=\"fa\"\n",
    "        )\n",
    "    ).add_to(marker_cluster)\n",
    "\n",
    "# === Step 7: Save final version ===\n",
    "output_name = \"South_roof_visualization_map_final.html\"\n",
    "m.save(output_name)\n",
    "print(f\"✅ Final map saved as: {output_name}\")\n"
   ]
  },
  {
   "cell_type": "code",
   "execution_count": 30,
   "id": "b9242047",
   "metadata": {},
   "outputs": [
    {
     "data": {
      "text/plain": [
       "True"
      ]
     },
     "execution_count": 30,
     "metadata": {},
     "output_type": "execute_result"
    }
   ],
   "source": [
    "import webbrowser\n",
    "webbrowser.open(\"South_roof_visualization_map_final.html\")\n"
   ]
  },
  {
   "cell_type": "code",
   "execution_count": null,
   "id": "2c01cb16",
   "metadata": {},
   "outputs": [],
   "source": []
  },
  {
   "cell_type": "code",
   "execution_count": null,
   "id": "13994444",
   "metadata": {},
   "outputs": [],
   "source": []
  }
 ],
 "metadata": {
  "kernelspec": {
   "display_name": "Python 3",
   "language": "python",
   "name": "python3"
  },
  "language_info": {
   "codemirror_mode": {
    "name": "ipython",
    "version": 3
   },
   "file_extension": ".py",
   "mimetype": "text/x-python",
   "name": "python",
   "nbconvert_exporter": "python",
   "pygments_lexer": "ipython3",
   "version": "3.12.1"
  }
 },
 "nbformat": 4,
 "nbformat_minor": 5
}
